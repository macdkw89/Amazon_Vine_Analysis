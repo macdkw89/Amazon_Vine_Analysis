{
  "nbformat": 4,
  "nbformat_minor": 0,
  "metadata": {
    "colab": {
      "provenance": []
    },
    "kernelspec": {
      "name": "python3",
      "display_name": "Python 3"
    },
    "language_info": {
      "name": "python"
    }
  },
  "cells": [
    {
      "cell_type": "code",
      "execution_count": 1,
      "metadata": {
        "colab": {
          "base_uri": "https://localhost:8080/"
        },
        "id": "7nJJ7zu-fqNz",
        "outputId": "ce6b3b22-515a-4dee-bdc5-d795bbdce5a1"
      },
      "outputs": [
        {
          "output_type": "stream",
          "name": "stdout",
          "text": [
            "\r0% [Working]\r            \rGet:1 http://security.ubuntu.com/ubuntu bionic-security InRelease [88.7 kB]\n",
            "Get:2 https://cloud.r-project.org/bin/linux/ubuntu bionic-cran40/ InRelease [3,626 B]\n",
            "Ign:3 https://developer.download.nvidia.com/compute/machine-learning/repos/ubuntu1804/x86_64  InRelease\n",
            "Get:4 http://ppa.launchpad.net/c2d4u.team/c2d4u4.0+/ubuntu bionic InRelease [15.9 kB]\n",
            "Get:5 https://developer.download.nvidia.com/compute/cuda/repos/ubuntu1804/x86_64  InRelease [1,581 B]\n",
            "Hit:6 https://developer.download.nvidia.com/compute/machine-learning/repos/ubuntu1804/x86_64  Release\n",
            "Hit:7 http://archive.ubuntu.com/ubuntu bionic InRelease\n",
            "Get:8 http://archive.ubuntu.com/ubuntu bionic-updates InRelease [88.7 kB]\n",
            "Hit:9 http://ppa.launchpad.net/cran/libgit2/ubuntu bionic InRelease\n",
            "Hit:10 http://ppa.launchpad.net/deadsnakes/ppa/ubuntu bionic InRelease\n",
            "Get:11 http://archive.ubuntu.com/ubuntu bionic-backports InRelease [83.3 kB]\n",
            "Get:12 http://security.ubuntu.com/ubuntu bionic-security/universe amd64 Packages [1,545 kB]\n",
            "Hit:13 http://ppa.launchpad.net/graphics-drivers/ppa/ubuntu bionic InRelease\n",
            "Get:14 https://developer.download.nvidia.com/compute/cuda/repos/ubuntu1804/x86_64  Packages [913 kB]\n",
            "Get:15 http://security.ubuntu.com/ubuntu bionic-security/main amd64 Packages [2,990 kB]\n",
            "Get:17 http://ppa.launchpad.net/c2d4u.team/c2d4u4.0+/ubuntu bionic/main Sources [2,155 kB]\n",
            "Get:18 http://archive.ubuntu.com/ubuntu bionic-updates/main amd64 Packages [3,422 kB]\n",
            "Get:19 http://ppa.launchpad.net/c2d4u.team/c2d4u4.0+/ubuntu bionic/main amd64 Packages [1,104 kB]\n",
            "Get:20 http://archive.ubuntu.com/ubuntu bionic-updates/universe amd64 Packages [2,322 kB]\n",
            "Get:21 http://archive.ubuntu.com/ubuntu bionic-backports/main amd64 Packages [64.0 kB]\n",
            "Get:22 http://archive.ubuntu.com/ubuntu bionic-backports/universe amd64 Packages [20.6 kB]\n",
            "Fetched 14.8 MB in 5s (3,178 kB/s)\n",
            "Reading package lists... Done\n",
            "--2022-09-26 20:33:07--  https://jdbc.postgresql.org/download/postgresql-42.2.9.jar\n",
            "Resolving jdbc.postgresql.org (jdbc.postgresql.org)... 72.32.157.228, 2001:4800:3e1:1::228\n",
            "Connecting to jdbc.postgresql.org (jdbc.postgresql.org)|72.32.157.228|:443... connected.\n",
            "HTTP request sent, awaiting response... 200 OK\n",
            "Length: 914037 (893K) [application/java-archive]\n",
            "Saving to: ‘postgresql-42.2.9.jar’\n",
            "\n",
            "postgresql-42.2.9.j 100%[===================>] 892.61K  5.23MB/s    in 0.2s    \n",
            "\n",
            "2022-09-26 20:33:08 (5.23 MB/s) - ‘postgresql-42.2.9.jar’ saved [914037/914037]\n",
            "\n"
          ]
        }
      ],
      "source": [
        "import os\n",
        "# Find the latest version of spark 3.0 from http://www.apache.org/dist/spark/ and enter as the spark version\n",
        "# For example:\n",
        "# spark_version = 'spark-3.3.0'\n",
        "spark_version = 'spark-3.3.0'\n",
        "os.environ['SPARK_VERSION']=spark_version\n",
        "\n",
        "# Install Spark and Java\n",
        "!apt-get update\n",
        "!apt-get install openjdk-11-jdk-headless -qq > /dev/null\n",
        "!wget -q http://www.apache.org/dist/spark/$SPARK_VERSION/$SPARK_VERSION-bin-hadoop2.tgz\n",
        "!tar xf $SPARK_VERSION-bin-hadoop2.tgz\n",
        "!pip install -q findspark\n",
        "!wget https://jdbc.postgresql.org/download/postgresql-42.2.9.jar\n",
        "\n",
        "# Set Environment Variables\n",
        "import os\n",
        "os.environ[\"JAVA_HOME\"] = \"/usr/lib/jvm/java-11-openjdk-amd64\"\n",
        "os.environ[\"SPARK_HOME\"] = f\"/content/{spark_version}-bin-hadoop2\"\n",
        "\n",
        "# Start a SparkSession\n",
        "import findspark\n",
        "findspark.init()"
      ]
    },
    {
      "cell_type": "code",
      "source": [
        "from pyspark.sql import SparkSession\n",
        "spark = SparkSession.builder.appName(\"M16-Amazon-Challenge\").config(\"spark.driver.extraClassPath\",\"/content/postgresql-42.2.16.jar\").getOrCreate()"
      ],
      "metadata": {
        "id": "XGrfFQPkf0lv"
      },
      "execution_count": 2,
      "outputs": []
    },
    {
      "cell_type": "markdown",
      "source": [
        "Load Amazon Data into Spark Dataframe"
      ],
      "metadata": {
        "id": "emLXKfNggX1V"
      }
    },
    {
      "cell_type": "code",
      "source": [
        "from pyspark import SparkFiles\n",
        "url = \"https://s3.amazonaws.com/amazon-reviews-pds/tsv/amazon_reviews_us_Lawn_and_Garden_v1_00.tsv.gz\"\n",
        "spark.sparkContext.addFile(url)\n",
        "df = spark.read.option(\"encoding\", \"UTF-8\").csv(SparkFiles.get(\"\"), sep=\"\\t\", header=True, inferSchema=True)\n",
        "df.show()"
      ],
      "metadata": {
        "colab": {
          "base_uri": "https://localhost:8080/"
        },
        "id": "0uJKFw0df-aS",
        "outputId": "25b61b57-37b7-4ee1-dd37-cc60ecc87525"
      },
      "execution_count": 3,
      "outputs": [
        {
          "output_type": "stream",
          "name": "stdout",
          "text": [
            "+-----------+-----------+--------------+----------+--------------+--------------------+----------------+-----------+-------------+-----------+----+-----------------+--------------------+--------------------+-------------------+\n",
            "|marketplace|customer_id|     review_id|product_id|product_parent|       product_title|product_category|star_rating|helpful_votes|total_votes|vine|verified_purchase|     review_headline|         review_body|        review_date|\n",
            "+-----------+-----------+--------------+----------+--------------+--------------------+----------------+-----------+-------------+-----------+----+-----------------+--------------------+--------------------+-------------------+\n",
            "|         US|   32787517| RED72VWWCOS7S|B008HDQYLQ|     348668413|Garden Weasel Gar...| Lawn and Garden|          1|            2|          8|   N|                Y|            One Star|I don't hate the ...|2015-08-31 00:00:00|\n",
            "|         US|   16374060| RZHWQ208LTEPV|B005OBZBD6|     264704759|10 Foot Mc4 Solar...| Lawn and Garden|          5|            0|          0|   N|                Y|          Five Stars|        worked great|2015-08-31 00:00:00|\n",
            "|         US|    9984817|R37LBC3XAVLYOO|B00RQL8U2G|      95173602|GE String A Long ...| Lawn and Garden|          5|            4|          5|   N|                Y|just what i neede...|just what i neede...|2015-08-31 00:00:00|\n",
            "|         US|   12635190|R3L7XJMA0MVJWC|B0081SBO4Y|     835659279|Key Pair Lawn Wit...| Lawn and Garden|          5|            0|          0|   N|                Y|                Keys|Needed replacemen...|2015-08-31 00:00:00|\n",
            "|         US|   43905102|R2I2GHSI7T1UBN|B008E6OK3U|     539243347|Zodiac R0502300 L...| Lawn and Garden|          1|            5|          6|   N|                Y|       Too expensive|Assuming you don'...|2015-08-31 00:00:00|\n",
            "|         US|   52596997|R2GFFKHK4I6VMX|B00W6NTULY|     337446474|Hirts Gardens Swe...| Lawn and Garden|          5|            0|          0|   N|                Y|                Nice|Beautifully packa...|2015-08-31 00:00:00|\n",
            "|         US|   43871104|R1R0UDX2XAN1S4|B00GXUMYKA|     468857193|AGPtEK 12 PCS Smo...| Lawn and Garden|          4|            0|          0|   N|                Y|These were pretty...|These were pretty...|2015-08-31 00:00:00|\n",
            "|         US|   11346008|R22C8FMBSTFRY8|B005EIX8JS|     125753094|Design Toscano Ea...| Lawn and Garden|          5|            2|          2|   N|                Y|Kids love it. WIs...|Its in the center...|2015-08-31 00:00:00|\n",
            "|         US|   49206471|R118NNIQ75XPGO|B000HJBKMQ|     834273114|TERRO T300 Liquid...| Lawn and Garden|          3|            0|          0|   N|                Y|      A little messy|The ants were att...|2015-08-31 00:00:00|\n",
            "|         US|   37596267|R30HYXHZQ49621|B004LY59V6|     612086079|BLACK+DECKER LBXR...| Lawn and Garden|          2|            0|          0|   N|                Y|Does not hold a c...|This is advertise...|2015-08-31 00:00:00|\n",
            "|         US|   31554283|R3EMLKY0GF1E90|B00CAVM85M|     280334010|Reach 'n Spray Pe...| Lawn and Garden|          5|            0|          0|   N|                Y|          Five Stars|Well made product...|2015-08-31 00:00:00|\n",
            "|         US|   43211735|R23BX7EGJMGQJR|B00DP6X1LG|     233116679|Puro-Kleen Ultra-...| Lawn and Garden|          5|            1|          2|   N|                Y|It's easy to cut ...|I used this for a...|2015-08-31 00:00:00|\n",
            "|         US|   25705116|R2Z4B6SDEAZF6E|B00025H2PY|     592807498|Diatomaceous Eart...| Lawn and Garden|          5|            0|          0|   N|                Y|          Five Stars|Great stuff. Gets...|2015-08-31 00:00:00|\n",
            "|         US|   47041108|R35289PGJERP5J|B0079GHJXY|     408290044|Perky-Pet 312C Pa...| Lawn and Garden|          5|            0|          0|   N|                Y|          Five Stars|   Very good quality|2015-08-31 00:00:00|\n",
            "|         US|    1534667|R39BPRMDKKIZL2|B004HFJ762|     404737140|Crossbow Dow Spec...| Lawn and Garden|          1|            4|          6|   N|                Y|Wrong Product- No...|This product was ...|2015-08-31 00:00:00|\n",
            "|         US|   52287759| R6WFPPBS1DZMG|B00004RAGL|     773636542|Apex REM 15 15-Fo...| Lawn and Garden|          5|            0|          0|   N|                Y|dehumidifier drai...|the hose worked w...|2015-08-31 00:00:00|\n",
            "|         US|   37010286| RK72M0ZBV9YLS|B010PWBNNK|     461072629|Elucto Electric B...| Lawn and Garden|          1|            3|          3|   N|                Y|   not easy it seems|I haven't killed ...|2015-08-31 00:00:00|\n",
            "|         US|   30576559| RX5G150AUWRDJ|B00T77AWY6|     365662076|Ohuhu® 100 Ft Exp...| Lawn and Garden|          1|            0|          0|   N|                Y|          Five Stars|I m very disappoi...|2015-08-31 00:00:00|\n",
            "|         US|   10291713|R1TMSZWIT21A31|B000UJH6HQ|     228393894|Toro 53746 Drip B...| Lawn and Garden|          3|            1|          2|   N|                Y|     Could be better|this is the fourt...|2015-08-31 00:00:00|\n",
            "|         US|   50656780|R2FURVPW763CIM|B000HJBKMQ|     834273114|TERRO T300 Liquid...| Lawn and Garden|          5|            0|          0|   N|                Y|Sugar Ants are ho...|Best thing you ca...|2015-08-31 00:00:00|\n",
            "+-----------+-----------+--------------+----------+--------------+--------------------+----------------+-----------+-------------+-----------+----+-----------------+--------------------+--------------------+-------------------+\n",
            "only showing top 20 rows\n",
            "\n"
          ]
        }
      ]
    },
    {
      "cell_type": "code",
      "source": [
        "vine_table_df = df.select([\"review_id\", \"star_rating\", \"helpful_votes\", \"total_votes\", \"vine\", \"verified_purchase\"])\n",
        "vine_table_df.show()"
      ],
      "metadata": {
        "colab": {
          "base_uri": "https://localhost:8080/"
        },
        "id": "B9uooP1LkFH3",
        "outputId": "670b8d22-b5be-49db-c3f1-44f974abbd72"
      },
      "execution_count": 8,
      "outputs": [
        {
          "output_type": "stream",
          "name": "stdout",
          "text": [
            "+--------------+-----------+-------------+-----------+----+-----------------+\n",
            "|     review_id|star_rating|helpful_votes|total_votes|vine|verified_purchase|\n",
            "+--------------+-----------+-------------+-----------+----+-----------------+\n",
            "| RED72VWWCOS7S|          1|            2|          8|   N|                Y|\n",
            "| RZHWQ208LTEPV|          5|            0|          0|   N|                Y|\n",
            "|R37LBC3XAVLYOO|          5|            4|          5|   N|                Y|\n",
            "|R3L7XJMA0MVJWC|          5|            0|          0|   N|                Y|\n",
            "|R2I2GHSI7T1UBN|          1|            5|          6|   N|                Y|\n",
            "|R2GFFKHK4I6VMX|          5|            0|          0|   N|                Y|\n",
            "|R1R0UDX2XAN1S4|          4|            0|          0|   N|                Y|\n",
            "|R22C8FMBSTFRY8|          5|            2|          2|   N|                Y|\n",
            "|R118NNIQ75XPGO|          3|            0|          0|   N|                Y|\n",
            "|R30HYXHZQ49621|          2|            0|          0|   N|                Y|\n",
            "|R3EMLKY0GF1E90|          5|            0|          0|   N|                Y|\n",
            "|R23BX7EGJMGQJR|          5|            1|          2|   N|                Y|\n",
            "|R2Z4B6SDEAZF6E|          5|            0|          0|   N|                Y|\n",
            "|R35289PGJERP5J|          5|            0|          0|   N|                Y|\n",
            "|R39BPRMDKKIZL2|          1|            4|          6|   N|                Y|\n",
            "| R6WFPPBS1DZMG|          5|            0|          0|   N|                Y|\n",
            "| RK72M0ZBV9YLS|          1|            3|          3|   N|                Y|\n",
            "| RX5G150AUWRDJ|          1|            0|          0|   N|                Y|\n",
            "|R1TMSZWIT21A31|          3|            1|          2|   N|                Y|\n",
            "|R2FURVPW763CIM|          5|            0|          0|   N|                Y|\n",
            "+--------------+-----------+-------------+-----------+----+-----------------+\n",
            "only showing top 20 rows\n",
            "\n"
          ]
        }
      ]
    },
    {
      "cell_type": "markdown",
      "source": [
        "Steps 1 & 2"
      ],
      "metadata": {
        "id": "6RqxmfiyhOzm"
      }
    },
    {
      "cell_type": "code",
      "source": [
        "votes_df = vine_table_df.filter(df[\"total_votes\"]>=20).filter(df[\"helpful_votes\"]/df[\"total_votes\"] >=0.5)\n",
        "votes_df.show()"
      ],
      "metadata": {
        "colab": {
          "base_uri": "https://localhost:8080/"
        },
        "id": "4YwzwUvmgpLZ",
        "outputId": "c782f4ce-cd0a-4b96-d882-a430af047784"
      },
      "execution_count": 9,
      "outputs": [
        {
          "output_type": "stream",
          "name": "stdout",
          "text": [
            "+--------------+-----------+-------------+-----------+----+-----------------+\n",
            "|     review_id|star_rating|helpful_votes|total_votes|vine|verified_purchase|\n",
            "+--------------+-----------+-------------+-----------+----+-----------------+\n",
            "| RQQ3KVTU5TJ4I|          5|           24|         29|   N|                Y|\n",
            "|R3FELXWV9T5CWE|          2|           22|         24|   N|                Y|\n",
            "| ROBYK6EZYK398|          5|           29|         30|   N|                Y|\n",
            "|R2YVBBR6NXIA4V|          5|           25|         28|   N|                N|\n",
            "|R2AVTBDIVG2AW4|          5|           26|         26|   N|                N|\n",
            "|R1Z2LNN3FANMTO|          1|           20|         24|   N|                N|\n",
            "|  RLNULBKRWNNR|          5|           42|         43|   N|                Y|\n",
            "| R9QNQUL94RX1F|          3|           27|         33|   N|                Y|\n",
            "| RTULFZTUS1VBP|          5|           51|         52|   N|                Y|\n",
            "|R1BM9RBQWI62O2|          5|           43|         60|   N|                N|\n",
            "| RWB6V9IYCOJFX|          4|           39|         41|   N|                Y|\n",
            "|R15FA7GCXKC7YE|          1|           40|         41|   N|                Y|\n",
            "|R2OQAI6AV8AH8Z|          1|           19|         32|   N|                Y|\n",
            "|R2XD5CWZ4Z87ZR|          5|           19|         25|   N|                Y|\n",
            "|R3LLBXVCEY5JKB|          1|           33|         35|   N|                Y|\n",
            "| RQWM8U7YH93TT|          4|           92|         93|   N|                N|\n",
            "|R2DEO6P7BEZ9UI|          5|           38|         38|   N|                Y|\n",
            "|R2CKYIHUSK3IEP|          1|           74|         88|   N|                Y|\n",
            "| RY0DMUQKNF8MT|          5|           32|         33|   N|                Y|\n",
            "|R33XCAJDTPOUQS|          5|           22|         23|   N|                Y|\n",
            "+--------------+-----------+-------------+-----------+----+-----------------+\n",
            "only showing top 20 rows\n",
            "\n"
          ]
        }
      ]
    },
    {
      "cell_type": "code",
      "source": [
        "vine_df = votes_df.filter(votes_df[\"vine\"] == 'Y')\n",
        "vine_df.show()"
      ],
      "metadata": {
        "colab": {
          "base_uri": "https://localhost:8080/"
        },
        "id": "N43gupw6jFZM",
        "outputId": "31606d92-f91c-462e-e7ba-d70f7390bd09"
      },
      "execution_count": 10,
      "outputs": [
        {
          "output_type": "stream",
          "name": "stdout",
          "text": [
            "+--------------+-----------+-------------+-----------+----+-----------------+\n",
            "|     review_id|star_rating|helpful_votes|total_votes|vine|verified_purchase|\n",
            "+--------------+-----------+-------------+-----------+----+-----------------+\n",
            "|R28DXTC3JQ9IY1|          4|           24|         26|   Y|                N|\n",
            "|R3AFZKLQXATHBU|          5|           44|         49|   Y|                N|\n",
            "|R2RUUF2JPJPC0E|          4|           20|         22|   Y|                N|\n",
            "| RFZ2WUH4248AB|          2|           26|         27|   Y|                N|\n",
            "|R1Q4LVHIFOWYFR|          5|           23|         28|   Y|                N|\n",
            "| R4YEPTQED3X1Q|          5|           19|         20|   Y|                N|\n",
            "|R2Z7C8YCRSC9DP|          5|           22|         22|   Y|                N|\n",
            "|R3J8OI5CB74P5K|          1|           22|         25|   Y|                N|\n",
            "| RH39LMKN6AZDC|          5|           33|         40|   Y|                N|\n",
            "| R8RD8K0ESJSRD|          5|           21|         21|   Y|                N|\n",
            "| R6P04SW0Z1FCR|          5|           20|         25|   Y|                N|\n",
            "|R32LMNP5ZU2F6G|          3|           33|         37|   Y|                N|\n",
            "|R21L9F1CIGVQ7H|          5|           35|         45|   Y|                N|\n",
            "|R3407EU7EKOUMA|          4|           31|         40|   Y|                N|\n",
            "| RDFMCB5Q7U0UW|          4|          152|        155|   Y|                N|\n",
            "|R2U38GEWPJG6JI|          5|           63|         66|   Y|                N|\n",
            "|R1E24YIQRGSP10|          5|           30|         40|   Y|                N|\n",
            "|R3L7PBHQGA3LB0|          3|           14|         20|   Y|                N|\n",
            "| R91BX5ZLRONPJ|          4|           16|         21|   Y|                N|\n",
            "|R1P31XRPGIF50W|          4|           33|         38|   Y|                N|\n",
            "+--------------+-----------+-------------+-----------+----+-----------------+\n",
            "only showing top 20 rows\n",
            "\n"
          ]
        }
      ]
    },
    {
      "cell_type": "code",
      "source": [
        "non_vine_df = votes_df.filter(votes_df[\"vine\"] == 'N')\n",
        "non_vine_df.show()"
      ],
      "metadata": {
        "colab": {
          "base_uri": "https://localhost:8080/"
        },
        "id": "H-YqTyWjjlvT",
        "outputId": "8b7b6077-0bf8-4c62-a458-1346ec5af0ab"
      },
      "execution_count": 11,
      "outputs": [
        {
          "output_type": "stream",
          "name": "stdout",
          "text": [
            "+--------------+-----------+-------------+-----------+----+-----------------+\n",
            "|     review_id|star_rating|helpful_votes|total_votes|vine|verified_purchase|\n",
            "+--------------+-----------+-------------+-----------+----+-----------------+\n",
            "| RQQ3KVTU5TJ4I|          5|           24|         29|   N|                Y|\n",
            "|R3FELXWV9T5CWE|          2|           22|         24|   N|                Y|\n",
            "| ROBYK6EZYK398|          5|           29|         30|   N|                Y|\n",
            "|R2YVBBR6NXIA4V|          5|           25|         28|   N|                N|\n",
            "|R2AVTBDIVG2AW4|          5|           26|         26|   N|                N|\n",
            "|R1Z2LNN3FANMTO|          1|           20|         24|   N|                N|\n",
            "|  RLNULBKRWNNR|          5|           42|         43|   N|                Y|\n",
            "| R9QNQUL94RX1F|          3|           27|         33|   N|                Y|\n",
            "| RTULFZTUS1VBP|          5|           51|         52|   N|                Y|\n",
            "|R1BM9RBQWI62O2|          5|           43|         60|   N|                N|\n",
            "| RWB6V9IYCOJFX|          4|           39|         41|   N|                Y|\n",
            "|R15FA7GCXKC7YE|          1|           40|         41|   N|                Y|\n",
            "|R2OQAI6AV8AH8Z|          1|           19|         32|   N|                Y|\n",
            "|R2XD5CWZ4Z87ZR|          5|           19|         25|   N|                Y|\n",
            "|R3LLBXVCEY5JKB|          1|           33|         35|   N|                Y|\n",
            "| RQWM8U7YH93TT|          4|           92|         93|   N|                N|\n",
            "|R2DEO6P7BEZ9UI|          5|           38|         38|   N|                Y|\n",
            "|R2CKYIHUSK3IEP|          1|           74|         88|   N|                Y|\n",
            "| RY0DMUQKNF8MT|          5|           32|         33|   N|                Y|\n",
            "|R33XCAJDTPOUQS|          5|           22|         23|   N|                Y|\n",
            "+--------------+-----------+-------------+-----------+----+-----------------+\n",
            "only showing top 20 rows\n",
            "\n"
          ]
        }
      ]
    },
    {
      "cell_type": "markdown",
      "source": [
        "Determine the total number of reviews, the number of 5-star reviews, and the percentage of 5-star reviews for the two types of review (paid vs unpaid)."
      ],
      "metadata": {
        "id": "6Hn7iV_0lGCv"
      }
    },
    {
      "cell_type": "code",
      "source": [
        "# Paid reviews\n",
        "paid_total_reviews = vine_df.count()\n",
        "paid_5star_reviews = vine_df[vine_df['star_rating']==5].count()\n",
        "paid_5star_percent = float(paid_5star_reviews)/float(paid_total_reviews)\n",
        "print(f\"Total Paid Reviews: {paid_total_reviews}\")\n",
        "print(f\"Total Paid 5-Star Reviews: {paid_5star_reviews}\")\n",
        "print(f\"Percent: {paid_5star_percent*100}%\")"
      ],
      "metadata": {
        "colab": {
          "base_uri": "https://localhost:8080/"
        },
        "id": "g0pZRURij06B",
        "outputId": "6aa8659d-0345-4b53-f836-056ab92defb3"
      },
      "execution_count": 15,
      "outputs": [
        {
          "output_type": "stream",
          "name": "stdout",
          "text": [
            "Total Paid Reviews: 386\n",
            "Total Paid 5-Star Reviews: 176\n",
            "Percent: 45.59585492227979%\n"
          ]
        }
      ]
    },
    {
      "cell_type": "code",
      "source": [
        "# Unpaid reviews\n",
        "unpaid_total_reviews = non_vine_df.count()\n",
        "unpaid_5star_reviews = non_vine_df[non_vine_df['star_rating']==5].count()\n",
        "unpaid_5star_percent = float(unpaid_5star_reviews)/float(unpaid_total_reviews)\n",
        "print(f\"Total Unpaid Reviews: {unpaid_total_reviews}\")\n",
        "print(f\"Total Unpaid 5-Star Reviews: {unpaid_5star_reviews}\")\n",
        "print(f\"Percent: {unpaid_5star_percent*100}%\")"
      ],
      "metadata": {
        "colab": {
          "base_uri": "https://localhost:8080/"
        },
        "id": "ALvMZ6aFme7b",
        "outputId": "08797a8a-a013-4f14-c82c-597d380926c0"
      },
      "execution_count": 19,
      "outputs": [
        {
          "output_type": "stream",
          "name": "stdout",
          "text": [
            "Total Unpaid Reviews: 48717\n",
            "Total Unpaid 5-Star Reviews: 24026\n",
            "Percent: 49.317486708951705%\n"
          ]
        }
      ]
    },
    {
      "cell_type": "code",
      "source": [],
      "metadata": {
        "id": "0MzYVzLknOoz"
      },
      "execution_count": null,
      "outputs": []
    }
  ]
}